{
 "cells": [
  {
   "cell_type": "code",
   "execution_count": 1,
   "outputs": [],
   "source": [
    "import neuralNetwork\n",
    "import FileProcessing\n",
    "import numpy as np\n",
    "%load_ext autoreload\n",
    "%autoreload 1\n",
    "%aimport neuralNetwork\n",
    "%aimport FileProcessing"
   ],
   "metadata": {
    "collapsed": false
   }
  },
  {
   "cell_type": "code",
   "execution_count": null,
   "outputs": [],
   "source": [
    "#define values\n",
    "inputSize = (100, 100)\n",
    "outputSize = 4\n",
    "planes = [\"F16\", \"SR71\", \"A10\", \"C130\"]\n",
    "pathToDataset = \"C:\\\\Users\\\\glenn\\\\Documents\\\\crop\"\n",
    "pathToStoreData = \"C:\\\\Users\\\\glenn\\\\Documents\""
   ],
   "metadata": {
    "collapsed": false
   }
  },
  {
   "cell_type": "code",
   "execution_count": 15,
   "outputs": [
    {
     "name": "stdout",
     "output_type": "stream",
     "text": [
      "{'A10': 466, 'C130': 521, 'F16': 860, 'SR71': 162}\n",
      "It took 79.37 seconds to import images\n"
     ]
    }
   ],
   "source": [
    "#import files\n",
    "XTrain, XVal, XTest = FileProcessing.importFiles(pathToDataset, inputSize, outputSize, 0.8, 0.1, planes)"
   ],
   "metadata": {
    "collapsed": false
   }
  },
  {
   "cell_type": "code",
   "execution_count": 16,
   "outputs": [
    {
     "name": "stdout",
     "output_type": "stream",
     "text": [
      "Storing training set.csv\n",
      "Storing validating set.csv\n",
      "Storing test set.csv\n"
     ]
    }
   ],
   "source": [
    "FileProcessing.storeFileInFolder(f'{pathToStoreData}\\\\processed data',\"training set.csv\", XTrain)\n",
    "FileProcessing.storeFileInFolder(f'{pathToStoreData}\\\\processed data',\"validating set.csv\", XVal)\n",
    "FileProcessing.storeFileInFolder(f'{pathToStoreData}\\\\processed data',\"test set.csv\", XTest)"
   ],
   "metadata": {
    "collapsed": false
   }
  },
  {
   "cell_type": "markdown",
   "source": [
    "Dit is gewoon om een splitsing te maken tussen het importeren van de images en het neural network deel"
   ],
   "metadata": {
    "collapsed": false
   }
  },
  {
   "cell_type": "code",
   "execution_count": 5,
   "outputs": [],
   "source": [
    "#load training set into X and y\n",
    "X = np.loadtxt(f'{pathToStoreData}\\\\processed data\\\\training set.csv', delimiter=',')\n",
    "yTrain = X[:, -1]\n",
    "XTrain = X[:, :-1]"
   ],
   "metadata": {
    "collapsed": false
   }
  },
  {
   "cell_type": "code",
   "execution_count": 7,
   "outputs": [
    {
     "name": "stdout",
     "output_type": "stream",
     "text": [
      "optimizing network\n"
     ]
    },
    {
     "name": "stderr",
     "output_type": "stream",
     "text": [
      "C:\\Users\\glenn\\OneDrive - KU Leuven\\Master Industrieel 1\\sem 1\\Machine Learning\\lab\\flyingFalcons\\neuralNetwork.py:179: RuntimeWarning: overflow encountered in exp\n",
      "  gz = 1.0 / (1.0 + np.exp(-z))\n"
     ]
    },
    {
     "name": "stdout",
     "output_type": "stream",
     "text": [
      "it took 123.2403814792633 seconds to optimize neural network\n",
      "Storing trained thetas.csv\n"
     ]
    }
   ],
   "source": [
    "#manual Theta training\n",
    "input_layer_size = XTrain.shape[1]\n",
    "num_labels = outputSize\n",
    "hidden_layer_size = 200\n",
    "hidden_layer_count = 2\n",
    "maxiter = 100\n",
    "lambda_ = 2\n",
    "# nn_params = np.loadtxt(f'{pathToStoreData}\\\\optimized network\\\\trained thetas.csv', delimiter=',')\n",
    "nn_params = neuralNetwork.optimizeNN(maxiter, input_layer_size, hidden_layer_size,\n",
    "                                    hidden_layer_count,\n",
    "                                    num_labels, XTrain, yTrain, lambda_, [])\n",
    "FileProcessing.storeFileInFolder(f'{pathToStoreData}\\\\optimized network',\"trained thetas.csv\", nn_params)"
   ],
   "metadata": {
    "collapsed": false
   }
  },
  {
   "cell_type": "code",
   "execution_count": 11,
   "outputs": [
    {
     "name": "stdout",
     "output_type": "stream",
     "text": [
      "loading X values\n",
      "loading thetas\n",
      "Training Set Accuracy: 49.24%\n",
      "Validation Set Accuracy: 34.59%\n"
     ]
    }
   ],
   "source": [
    "print(\"loading X values\")\n",
    "X = np.loadtxt(f'{pathToStoreData}\\\\processed data\\\\validating set.csv', delimiter=',')\n",
    "print(\"loading thetas\")\n",
    "nn_params = np.loadtxt(f'{pathToStoreData}\\\\optimized network\\\\trained thetas.csv', delimiter=',')\n",
    "optimizedThetas = neuralNetwork.nnparamsToThetas(nn_params, input_layer_size, hidden_layer_size,\n",
    "                                                 hidden_layer_count, num_labels)\n",
    "yVal = X[:, -1]\n",
    "XVal = X[:, :-1]\n",
    "predTrain = neuralNetwork.predict(optimizedThetas, XTrain)\n",
    "predVal = neuralNetwork.predict(optimizedThetas, XVal)\n",
    "print('Training Set Accuracy: {:.2f}%'.format(np.mean(predTrain == yTrain) * 100))\n",
    "print('Validation Set Accuracy: {:.2f}%'.format(np.mean(predVal == yVal) * 100))"
   ],
   "metadata": {
    "collapsed": false
   }
  },
  {
   "cell_type": "markdown",
   "source": [
    "Dit is gewoon om een splitsing te maken tussen manuele training van het neurale netwerk en het automatisch trainen"
   ],
   "metadata": {
    "collapsed": false
   }
  },
  {
   "cell_type": "code",
   "execution_count": 14,
   "outputs": [
    {
     "name": "stdout",
     "output_type": "stream",
     "text": [
      "(100, 100)\n"
     ]
    },
    {
     "ename": "ValueError",
     "evalue": "shapes (200,8193) and (10001,) not aligned: 8193 (dim 1) != 10001 (dim 0)",
     "output_type": "error",
     "traceback": [
      "\u001B[1;31m---------------------------------------------------------------------------\u001B[0m",
      "\u001B[1;31mValueError\u001B[0m                                Traceback (most recent call last)",
      "\u001B[1;32m~\\AppData\\Local\\Temp\\ipykernel_14044\\198511365.py\u001B[0m in \u001B[0;36m<module>\u001B[1;34m\u001B[0m\n\u001B[0;32m      2\u001B[0m optimizedThetas = neuralNetwork.nnparamsToThetas(nn_params, input_layer_size, hidden_layer_size,\n\u001B[0;32m      3\u001B[0m                                                  hidden_layer_count, num_labels)\n\u001B[1;32m----> 4\u001B[1;33m \u001B[0mneuralNetwork\u001B[0m\u001B[1;33m.\u001B[0m\u001B[0mpredictFromCamera\u001B[0m\u001B[1;33m(\u001B[0m\u001B[0moptimizedThetas\u001B[0m\u001B[1;33m,\u001B[0m \u001B[0minputSize\u001B[0m\u001B[1;33m)\u001B[0m\u001B[1;33m\u001B[0m\u001B[1;33m\u001B[0m\u001B[0m\n\u001B[0m",
      "\u001B[1;32m~\\OneDrive - KU Leuven\\Master Industrieel 1\\sem 1\\Machine Learning\\lab\\flyingFalcons\\neuralNetwork.py\u001B[0m in \u001B[0;36mpredictFromCamera\u001B[1;34m(thetas, input_size)\u001B[0m\n\u001B[0;32m     35\u001B[0m         \u001B[0mfile_data\u001B[0m \u001B[1;33m=\u001B[0m \u001B[0mnp\u001B[0m\u001B[1;33m.\u001B[0m\u001B[0masarray\u001B[0m\u001B[1;33m(\u001B[0m\u001B[0mprocessedImg\u001B[0m\u001B[1;33m)\u001B[0m\u001B[1;33m\u001B[0m\u001B[1;33m\u001B[0m\u001B[0m\n\u001B[0;32m     36\u001B[0m         \u001B[0mfile_data\u001B[0m \u001B[1;33m=\u001B[0m \u001B[0mfile_data\u001B[0m\u001B[1;33m.\u001B[0m\u001B[0mflatten\u001B[0m\u001B[1;33m(\u001B[0m\u001B[1;33m)\u001B[0m\u001B[1;33m\u001B[0m\u001B[1;33m\u001B[0m\u001B[0m\n\u001B[1;32m---> 37\u001B[1;33m         \u001B[0mprint\u001B[0m\u001B[1;33m(\u001B[0m\u001B[1;34mf\"{predict(thetas, file_data)}\"\u001B[0m\u001B[1;33m,\u001B[0m \u001B[0mend\u001B[0m\u001B[1;33m=\u001B[0m\u001B[1;34m'\\r'\u001B[0m\u001B[1;33m,\u001B[0m \u001B[0mflush\u001B[0m\u001B[1;33m=\u001B[0m\u001B[1;32mTrue\u001B[0m\u001B[1;33m)\u001B[0m\u001B[1;33m\u001B[0m\u001B[1;33m\u001B[0m\u001B[0m\n\u001B[0m\u001B[0;32m     38\u001B[0m         \u001B[0mcv2\u001B[0m\u001B[1;33m.\u001B[0m\u001B[0mimshow\u001B[0m\u001B[1;33m(\u001B[0m\u001B[1;34m'my webcam'\u001B[0m\u001B[1;33m,\u001B[0m \u001B[0mimg\u001B[0m\u001B[1;33m)\u001B[0m\u001B[1;33m\u001B[0m\u001B[1;33m\u001B[0m\u001B[0m\n\u001B[0;32m     39\u001B[0m         \u001B[1;32mif\u001B[0m \u001B[0mcv2\u001B[0m\u001B[1;33m.\u001B[0m\u001B[0mwaitKey\u001B[0m\u001B[1;33m(\u001B[0m\u001B[1;36m1\u001B[0m\u001B[1;33m)\u001B[0m \u001B[1;33m==\u001B[0m \u001B[1;36m27\u001B[0m\u001B[1;33m:\u001B[0m\u001B[1;33m\u001B[0m\u001B[1;33m\u001B[0m\u001B[0m\n",
      "\u001B[1;32m~\\OneDrive - KU Leuven\\Master Industrieel 1\\sem 1\\Machine Learning\\lab\\flyingFalcons\\neuralNetwork.py\u001B[0m in \u001B[0;36mpredict\u001B[1;34m(thetas, X)\u001B[0m\n\u001B[0;32m     22\u001B[0m         \u001B[1;32mfor\u001B[0m \u001B[0mj\u001B[0m \u001B[1;32min\u001B[0m \u001B[0mrange\u001B[0m\u001B[1;33m(\u001B[0m\u001B[0mlen\u001B[0m\u001B[1;33m(\u001B[0m\u001B[0mthetas\u001B[0m\u001B[1;33m)\u001B[0m\u001B[1;33m)\u001B[0m\u001B[1;33m:\u001B[0m\u001B[1;33m\u001B[0m\u001B[1;33m\u001B[0m\u001B[0m\n\u001B[0;32m     23\u001B[0m             \u001B[0ma\u001B[0m\u001B[1;33m[\u001B[0m\u001B[0mj\u001B[0m\u001B[1;33m]\u001B[0m \u001B[1;33m=\u001B[0m \u001B[0mnp\u001B[0m\u001B[1;33m.\u001B[0m\u001B[0minsert\u001B[0m\u001B[1;33m(\u001B[0m\u001B[0ma\u001B[0m\u001B[1;33m[\u001B[0m\u001B[0mj\u001B[0m\u001B[1;33m]\u001B[0m\u001B[1;33m,\u001B[0m \u001B[1;36m0\u001B[0m\u001B[1;33m,\u001B[0m \u001B[1;36m1\u001B[0m\u001B[1;33m)\u001B[0m\u001B[1;33m\u001B[0m\u001B[1;33m\u001B[0m\u001B[0m\n\u001B[1;32m---> 24\u001B[1;33m             \u001B[0ma\u001B[0m\u001B[1;33m.\u001B[0m\u001B[0mappend\u001B[0m\u001B[1;33m(\u001B[0m\u001B[0msigmoid\u001B[0m\u001B[1;33m(\u001B[0m\u001B[0mnp\u001B[0m\u001B[1;33m.\u001B[0m\u001B[0mdot\u001B[0m\u001B[1;33m(\u001B[0m\u001B[0mthetas\u001B[0m\u001B[1;33m[\u001B[0m\u001B[0mj\u001B[0m\u001B[1;33m]\u001B[0m\u001B[1;33m,\u001B[0m \u001B[0ma\u001B[0m\u001B[1;33m[\u001B[0m\u001B[0mj\u001B[0m\u001B[1;33m]\u001B[0m\u001B[1;33m)\u001B[0m\u001B[1;33m)\u001B[0m\u001B[1;33m)\u001B[0m\u001B[1;33m\u001B[0m\u001B[1;33m\u001B[0m\u001B[0m\n\u001B[0m\u001B[0;32m     25\u001B[0m         \u001B[0mp\u001B[0m\u001B[1;33m[\u001B[0m\u001B[0mi\u001B[0m\u001B[1;33m]\u001B[0m \u001B[1;33m=\u001B[0m \u001B[0mnp\u001B[0m\u001B[1;33m.\u001B[0m\u001B[0margmax\u001B[0m\u001B[1;33m(\u001B[0m\u001B[0ma\u001B[0m\u001B[1;33m[\u001B[0m\u001B[1;33m-\u001B[0m\u001B[1;36m1\u001B[0m\u001B[1;33m]\u001B[0m\u001B[1;33m)\u001B[0m\u001B[1;33m\u001B[0m\u001B[1;33m\u001B[0m\u001B[0m\n\u001B[0;32m     26\u001B[0m     \u001B[1;32mreturn\u001B[0m \u001B[0mp\u001B[0m\u001B[1;33m\u001B[0m\u001B[1;33m\u001B[0m\u001B[0m\n",
      "\u001B[1;32m<__array_function__ internals>\u001B[0m in \u001B[0;36mdot\u001B[1;34m(*args, **kwargs)\u001B[0m\n",
      "\u001B[1;31mValueError\u001B[0m: shapes (200,8193) and (10001,) not aligned: 8193 (dim 1) != 10001 (dim 0)"
     ]
    }
   ],
   "source": [
    "nn_params = np.loadtxt(f'{pathToStoreData}\\\\optimized network\\\\trained thetas.csv', delimiter=',')\n",
    "optimizedThetas = neuralNetwork.nnparamsToThetas(nn_params, input_layer_size, hidden_layer_size,\n",
    "                                                 hidden_layer_count, num_labels)\n",
    "neuralNetwork.predictFromCamera(optimizedThetas, inputSize)"
   ],
   "metadata": {
    "collapsed": false
   }
  },
  {
   "cell_type": "code",
   "execution_count": null,
   "outputs": [],
   "source": [],
   "metadata": {
    "collapsed": false
   }
  }
 ],
 "metadata": {
  "kernelspec": {
   "display_name": "Python 3",
   "language": "python",
   "name": "python3"
  },
  "language_info": {
   "codemirror_mode": {
    "name": "ipython",
    "version": 2
   },
   "file_extension": ".py",
   "mimetype": "text/x-python",
   "name": "python",
   "nbconvert_exporter": "python",
   "pygments_lexer": "ipython2",
   "version": "2.7.6"
  }
 },
 "nbformat": 4,
 "nbformat_minor": 0
}
