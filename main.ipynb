{
 "cells": [
  {
   "cell_type": "code",
   "execution_count": 1,
   "outputs": [],
   "source": [
    "import neuralNetwork\n",
    "import FileProcessing\n",
    "import numpy as np\n",
    "%load_ext autoreload\n",
    "%autoreload 1\n",
    "%aimport neuralNetwork\n",
    "%aimport FileProcessing"
   ],
   "metadata": {
    "collapsed": false
   }
  },
  {
   "cell_type": "code",
   "execution_count": 2,
   "outputs": [],
   "source": [
    "#define values\n",
    "inputSize = (100, 100)\n",
    "outputSize = 4\n",
    "planes = [\"F16\", \"SR71\", \"A10\", \"C130\"]\n",
    "pathToDataset = \"C:\\\\Users\\\\glenn\\\\Documents\\\\crop\"\n",
    "pathToStoreData = \"C:\\\\Users\\\\glenn\\\\Documents\""
   ],
   "metadata": {
    "collapsed": false
   }
  },
  {
   "cell_type": "code",
   "execution_count": 59,
   "outputs": [
    {
     "name": "stdout",
     "output_type": "stream",
     "text": [
      "0\n",
      "0\n",
      "0\n",
      "0\n",
      "0\n",
      "0\n"
     ]
    },
    {
     "ename": "KeyboardInterrupt",
     "evalue": "",
     "output_type": "error",
     "traceback": [
      "\u001B[1;31m---------------------------------------------------------------------------\u001B[0m",
      "\u001B[1;31mKeyboardInterrupt\u001B[0m                         Traceback (most recent call last)",
      "\u001B[1;32m~\\AppData\\Local\\Temp\\ipykernel_8348\\3661031058.py\u001B[0m in \u001B[0;36m<module>\u001B[1;34m\u001B[0m\n\u001B[0;32m      1\u001B[0m \u001B[1;31m#import files\u001B[0m\u001B[1;33m\u001B[0m\u001B[1;33m\u001B[0m\u001B[0m\n\u001B[1;32m----> 2\u001B[1;33m \u001B[0mXTrain\u001B[0m\u001B[1;33m,\u001B[0m \u001B[0mXVal\u001B[0m\u001B[1;33m,\u001B[0m \u001B[0mXTest\u001B[0m \u001B[1;33m=\u001B[0m \u001B[0mFileProcessing\u001B[0m\u001B[1;33m.\u001B[0m\u001B[0mimportFiles\u001B[0m\u001B[1;33m(\u001B[0m\u001B[0mpathToDataset\u001B[0m\u001B[1;33m,\u001B[0m \u001B[0minputSize\u001B[0m\u001B[1;33m,\u001B[0m \u001B[0moutputSize\u001B[0m\u001B[1;33m,\u001B[0m \u001B[1;36m0.8\u001B[0m\u001B[1;33m,\u001B[0m \u001B[1;36m0.1\u001B[0m\u001B[1;33m,\u001B[0m \u001B[0mplanes\u001B[0m\u001B[1;33m)\u001B[0m\u001B[1;33m\u001B[0m\u001B[1;33m\u001B[0m\u001B[0m\n\u001B[0m",
      "\u001B[1;32m~\\OneDrive - KU Leuven\\Master Industrieel 1\\sem 1\\Machine Learning\\lab\\flyingFalcons\\FileProcessing.py\u001B[0m in \u001B[0;36mimportFiles\u001B[1;34m(pathToDataset, input_size, output_size, training_fraction, validating_fraction, names_list)\u001B[0m\n\u001B[0;32m     65\u001B[0m                 \u001B[1;32mif\u001B[0m \u001B[1;33m(\u001B[0m\u001B[0mplaneCount\u001B[0m\u001B[1;33m[\u001B[0m\u001B[0mplane_type\u001B[0m\u001B[1;33m]\u001B[0m \u001B[1;33m%\u001B[0m \u001B[1;36m10\u001B[0m\u001B[1;33m)\u001B[0m \u001B[1;33m<\u001B[0m \u001B[0mint\u001B[0m\u001B[1;33m(\u001B[0m\u001B[0mtraining_fraction\u001B[0m \u001B[1;33m*\u001B[0m \u001B[1;36m10\u001B[0m\u001B[1;33m)\u001B[0m\u001B[1;33m:\u001B[0m\u001B[1;33m\u001B[0m\u001B[1;33m\u001B[0m\u001B[0m\n\u001B[0;32m     66\u001B[0m                     \u001B[0mprint\u001B[0m\u001B[1;33m(\u001B[0m\u001B[0mlen\u001B[0m\u001B[1;33m(\u001B[0m\u001B[0mplaneDict\u001B[0m\u001B[1;33m)\u001B[0m\u001B[1;33m-\u001B[0m\u001B[1;36m1\u001B[0m\u001B[1;33m)\u001B[0m\u001B[1;33m\u001B[0m\u001B[1;33m\u001B[0m\u001B[0m\n\u001B[1;32m---> 67\u001B[1;33m                     \u001B[0mimg\u001B[0m\u001B[1;33m.\u001B[0m\u001B[0mshow\u001B[0m\u001B[1;33m(\u001B[0m\u001B[1;33m)\u001B[0m\u001B[1;33m\u001B[0m\u001B[1;33m\u001B[0m\u001B[0m\n\u001B[0m\u001B[0;32m     68\u001B[0m                     \u001B[0mX\u001B[0m\u001B[1;33m.\u001B[0m\u001B[0mappend\u001B[0m\u001B[1;33m(\u001B[0m\u001B[0mnumpydata\u001B[0m\u001B[1;33m.\u001B[0m\u001B[0mflatten\u001B[0m\u001B[1;33m(\u001B[0m\u001B[1;33m)\u001B[0m\u001B[1;33m)\u001B[0m\u001B[1;33m\u001B[0m\u001B[1;33m\u001B[0m\u001B[0m\n\u001B[0;32m     69\u001B[0m                     \u001B[0my\u001B[0m\u001B[1;33m.\u001B[0m\u001B[0mappend\u001B[0m\u001B[1;33m(\u001B[0m\u001B[0mlen\u001B[0m\u001B[1;33m(\u001B[0m\u001B[0mplaneDict\u001B[0m\u001B[1;33m)\u001B[0m\u001B[1;33m-\u001B[0m\u001B[1;36m1\u001B[0m\u001B[1;33m)\u001B[0m\u001B[1;33m\u001B[0m\u001B[1;33m\u001B[0m\u001B[0m\n",
      "\u001B[1;32m~\\anaconda3\\lib\\site-packages\\PIL\\Image.py\u001B[0m in \u001B[0;36mshow\u001B[1;34m(self, title)\u001B[0m\n\u001B[0;32m   2372\u001B[0m         \"\"\"\n\u001B[0;32m   2373\u001B[0m \u001B[1;33m\u001B[0m\u001B[0m\n\u001B[1;32m-> 2374\u001B[1;33m         \u001B[0m_show\u001B[0m\u001B[1;33m(\u001B[0m\u001B[0mself\u001B[0m\u001B[1;33m,\u001B[0m \u001B[0mtitle\u001B[0m\u001B[1;33m=\u001B[0m\u001B[0mtitle\u001B[0m\u001B[1;33m)\u001B[0m\u001B[1;33m\u001B[0m\u001B[1;33m\u001B[0m\u001B[0m\n\u001B[0m\u001B[0;32m   2375\u001B[0m \u001B[1;33m\u001B[0m\u001B[0m\n\u001B[0;32m   2376\u001B[0m     \u001B[1;32mdef\u001B[0m \u001B[0msplit\u001B[0m\u001B[1;33m(\u001B[0m\u001B[0mself\u001B[0m\u001B[1;33m)\u001B[0m\u001B[1;33m:\u001B[0m\u001B[1;33m\u001B[0m\u001B[1;33m\u001B[0m\u001B[0m\n",
      "\u001B[1;32m~\\anaconda3\\lib\\site-packages\\PIL\\Image.py\u001B[0m in \u001B[0;36m_show\u001B[1;34m(image, **options)\u001B[0m\n\u001B[0;32m   3370\u001B[0m     \u001B[1;32mfrom\u001B[0m \u001B[1;33m.\u001B[0m \u001B[1;32mimport\u001B[0m \u001B[0mImageShow\u001B[0m\u001B[1;33m\u001B[0m\u001B[1;33m\u001B[0m\u001B[0m\n\u001B[0;32m   3371\u001B[0m \u001B[1;33m\u001B[0m\u001B[0m\n\u001B[1;32m-> 3372\u001B[1;33m     \u001B[0mImageShow\u001B[0m\u001B[1;33m.\u001B[0m\u001B[0mshow\u001B[0m\u001B[1;33m(\u001B[0m\u001B[0mimage\u001B[0m\u001B[1;33m,\u001B[0m \u001B[1;33m**\u001B[0m\u001B[0moptions\u001B[0m\u001B[1;33m)\u001B[0m\u001B[1;33m\u001B[0m\u001B[1;33m\u001B[0m\u001B[0m\n\u001B[0m\u001B[0;32m   3373\u001B[0m \u001B[1;33m\u001B[0m\u001B[0m\n\u001B[0;32m   3374\u001B[0m \u001B[1;33m\u001B[0m\u001B[0m\n",
      "\u001B[1;32m~\\anaconda3\\lib\\site-packages\\PIL\\ImageShow.py\u001B[0m in \u001B[0;36mshow\u001B[1;34m(image, title, **options)\u001B[0m\n\u001B[0;32m     60\u001B[0m     \"\"\"\n\u001B[0;32m     61\u001B[0m     \u001B[1;32mfor\u001B[0m \u001B[0mviewer\u001B[0m \u001B[1;32min\u001B[0m \u001B[0m_viewers\u001B[0m\u001B[1;33m:\u001B[0m\u001B[1;33m\u001B[0m\u001B[1;33m\u001B[0m\u001B[0m\n\u001B[1;32m---> 62\u001B[1;33m         \u001B[1;32mif\u001B[0m \u001B[0mviewer\u001B[0m\u001B[1;33m.\u001B[0m\u001B[0mshow\u001B[0m\u001B[1;33m(\u001B[0m\u001B[0mimage\u001B[0m\u001B[1;33m,\u001B[0m \u001B[0mtitle\u001B[0m\u001B[1;33m=\u001B[0m\u001B[0mtitle\u001B[0m\u001B[1;33m,\u001B[0m \u001B[1;33m**\u001B[0m\u001B[0moptions\u001B[0m\u001B[1;33m)\u001B[0m\u001B[1;33m:\u001B[0m\u001B[1;33m\u001B[0m\u001B[1;33m\u001B[0m\u001B[0m\n\u001B[0m\u001B[0;32m     63\u001B[0m             \u001B[1;32mreturn\u001B[0m \u001B[1;32mTrue\u001B[0m\u001B[1;33m\u001B[0m\u001B[1;33m\u001B[0m\u001B[0m\n\u001B[0;32m     64\u001B[0m     \u001B[1;32mreturn\u001B[0m \u001B[1;32mFalse\u001B[0m\u001B[1;33m\u001B[0m\u001B[1;33m\u001B[0m\u001B[0m\n",
      "\u001B[1;32m~\\anaconda3\\lib\\site-packages\\PIL\\ImageShow.py\u001B[0m in \u001B[0;36mshow\u001B[1;34m(self, image, **options)\u001B[0m\n\u001B[0;32m     84\u001B[0m                 \u001B[0mimage\u001B[0m \u001B[1;33m=\u001B[0m \u001B[0mimage\u001B[0m\u001B[1;33m.\u001B[0m\u001B[0mconvert\u001B[0m\u001B[1;33m(\u001B[0m\u001B[0mbase\u001B[0m\u001B[1;33m)\u001B[0m\u001B[1;33m\u001B[0m\u001B[1;33m\u001B[0m\u001B[0m\n\u001B[0;32m     85\u001B[0m \u001B[1;33m\u001B[0m\u001B[0m\n\u001B[1;32m---> 86\u001B[1;33m         \u001B[1;32mreturn\u001B[0m \u001B[0mself\u001B[0m\u001B[1;33m.\u001B[0m\u001B[0mshow_image\u001B[0m\u001B[1;33m(\u001B[0m\u001B[0mimage\u001B[0m\u001B[1;33m,\u001B[0m \u001B[1;33m**\u001B[0m\u001B[0moptions\u001B[0m\u001B[1;33m)\u001B[0m\u001B[1;33m\u001B[0m\u001B[1;33m\u001B[0m\u001B[0m\n\u001B[0m\u001B[0;32m     87\u001B[0m \u001B[1;33m\u001B[0m\u001B[0m\n\u001B[0;32m     88\u001B[0m     \u001B[1;31m# hook methods\u001B[0m\u001B[1;33m\u001B[0m\u001B[1;33m\u001B[0m\u001B[0m\n",
      "\u001B[1;32m~\\anaconda3\\lib\\site-packages\\PIL\\ImageShow.py\u001B[0m in \u001B[0;36mshow_image\u001B[1;34m(self, image, **options)\u001B[0m\n\u001B[0;32m    110\u001B[0m     \u001B[1;32mdef\u001B[0m \u001B[0mshow_image\u001B[0m\u001B[1;33m(\u001B[0m\u001B[0mself\u001B[0m\u001B[1;33m,\u001B[0m \u001B[0mimage\u001B[0m\u001B[1;33m,\u001B[0m \u001B[1;33m**\u001B[0m\u001B[0moptions\u001B[0m\u001B[1;33m)\u001B[0m\u001B[1;33m:\u001B[0m\u001B[1;33m\u001B[0m\u001B[1;33m\u001B[0m\u001B[0m\n\u001B[0;32m    111\u001B[0m         \u001B[1;34m\"\"\"Display the given image.\"\"\"\u001B[0m\u001B[1;33m\u001B[0m\u001B[1;33m\u001B[0m\u001B[0m\n\u001B[1;32m--> 112\u001B[1;33m         \u001B[1;32mreturn\u001B[0m \u001B[0mself\u001B[0m\u001B[1;33m.\u001B[0m\u001B[0mshow_file\u001B[0m\u001B[1;33m(\u001B[0m\u001B[0mself\u001B[0m\u001B[1;33m.\u001B[0m\u001B[0msave_image\u001B[0m\u001B[1;33m(\u001B[0m\u001B[0mimage\u001B[0m\u001B[1;33m)\u001B[0m\u001B[1;33m,\u001B[0m \u001B[1;33m**\u001B[0m\u001B[0moptions\u001B[0m\u001B[1;33m)\u001B[0m\u001B[1;33m\u001B[0m\u001B[1;33m\u001B[0m\u001B[0m\n\u001B[0m\u001B[0;32m    113\u001B[0m \u001B[1;33m\u001B[0m\u001B[0m\n\u001B[0;32m    114\u001B[0m     \u001B[1;32mdef\u001B[0m \u001B[0mshow_file\u001B[0m\u001B[1;33m(\u001B[0m\u001B[0mself\u001B[0m\u001B[1;33m,\u001B[0m \u001B[0mpath\u001B[0m\u001B[1;33m=\u001B[0m\u001B[1;32mNone\u001B[0m\u001B[1;33m,\u001B[0m \u001B[1;33m**\u001B[0m\u001B[0moptions\u001B[0m\u001B[1;33m)\u001B[0m\u001B[1;33m:\u001B[0m\u001B[1;33m\u001B[0m\u001B[1;33m\u001B[0m\u001B[0m\n",
      "\u001B[1;32m~\\anaconda3\\lib\\site-packages\\PIL\\ImageShow.py\u001B[0m in \u001B[0;36mshow_file\u001B[1;34m(self, path, **options)\u001B[0m\n\u001B[0;32m    126\u001B[0m             \u001B[1;32melse\u001B[0m\u001B[1;33m:\u001B[0m\u001B[1;33m\u001B[0m\u001B[1;33m\u001B[0m\u001B[0m\n\u001B[0;32m    127\u001B[0m                 \u001B[1;32mraise\u001B[0m \u001B[0mTypeError\u001B[0m\u001B[1;33m(\u001B[0m\u001B[1;34m\"Missing required argument: 'path'\"\u001B[0m\u001B[1;33m)\u001B[0m\u001B[1;33m\u001B[0m\u001B[1;33m\u001B[0m\u001B[0m\n\u001B[1;32m--> 128\u001B[1;33m         \u001B[0mos\u001B[0m\u001B[1;33m.\u001B[0m\u001B[0msystem\u001B[0m\u001B[1;33m(\u001B[0m\u001B[0mself\u001B[0m\u001B[1;33m.\u001B[0m\u001B[0mget_command\u001B[0m\u001B[1;33m(\u001B[0m\u001B[0mpath\u001B[0m\u001B[1;33m,\u001B[0m \u001B[1;33m**\u001B[0m\u001B[0moptions\u001B[0m\u001B[1;33m)\u001B[0m\u001B[1;33m)\u001B[0m\u001B[1;33m\u001B[0m\u001B[1;33m\u001B[0m\u001B[0m\n\u001B[0m\u001B[0;32m    129\u001B[0m         \u001B[1;32mreturn\u001B[0m \u001B[1;36m1\u001B[0m\u001B[1;33m\u001B[0m\u001B[1;33m\u001B[0m\u001B[0m\n\u001B[0;32m    130\u001B[0m \u001B[1;33m\u001B[0m\u001B[0m\n",
      "\u001B[1;31mKeyboardInterrupt\u001B[0m: "
     ]
    }
   ],
   "source": [
    "#import files\n",
    "XTrain, XVal, XTest = FileProcessing.importFiles(pathToDataset, inputSize, outputSize, 0.8, 0.1, planes)"
   ],
   "metadata": {
    "collapsed": false
   }
  },
  {
   "cell_type": "code",
   "execution_count": 33,
   "outputs": [
    {
     "name": "stdout",
     "output_type": "stream",
     "text": [
      "Storing training set.csv\n",
      "Storing validating set.csv\n",
      "Storing test set.csv\n"
     ]
    }
   ],
   "source": [
    "FileProcessing.storeFileInFolder(f'{pathToStoreData}\\\\processed data',\"training set.csv\", XTrain)\n",
    "FileProcessing.storeFileInFolder(f'{pathToStoreData}\\\\processed data',\"validating set.csv\", XVal)\n",
    "FileProcessing.storeFileInFolder(f'{pathToStoreData}\\\\processed data',\"test set.csv\", XTest)"
   ],
   "metadata": {
    "collapsed": false
   }
  },
  {
   "cell_type": "markdown",
   "source": [
    "Dit is gewoon om een splitsing te maken tussen het importeren van de images en het neural network deel"
   ],
   "metadata": {
    "collapsed": false
   }
  },
  {
   "cell_type": "code",
   "execution_count": 34,
   "outputs": [],
   "source": [
    "#load training set into X and y\n",
    "X = np.loadtxt(f'{pathToStoreData}\\\\processed data\\\\training set.csv', delimiter=',')\n",
    "yTrain = X[:, -1]\n",
    "XTrain = X[:, :-1]"
   ],
   "metadata": {
    "collapsed": false
   }
  },
  {
   "cell_type": "code",
   "execution_count": 62,
   "outputs": [
    {
     "name": "stdout",
     "output_type": "stream",
     "text": [
      "optimizing network\n",
      "it took 8632.741822004318 seconds to optimize neural network\n",
      "Storing trained thetas.csv\n"
     ]
    }
   ],
   "source": [
    "#manual Theta training\n",
    "input_layer_size = XTrain.shape[1]\n",
    "num_labels = outputSize\n",
    "hidden_layer_size = 2000\n",
    "hidden_layer_count = 2\n",
    "maxiter = 1000\n",
    "lambda_ = 5\n",
    "nn_params = np.loadtxt(f'{pathToStoreData}\\\\optimized network\\\\trained thetas.csv', delimiter=',')\n",
    "nn_params = neuralNetwork.optimizeNN(maxiter, input_layer_size, hidden_layer_size,\n",
    "                                    hidden_layer_count,\n",
    "                                    num_labels, XTrain, yTrain, lambda_, False, nn_params)\n",
    "FileProcessing.storeFileInFolder(f'{pathToStoreData}\\\\optimized network',\"trained thetas.csv\", nn_params)"
   ],
   "metadata": {
    "collapsed": false
   }
  },
  {
   "cell_type": "code",
   "execution_count": 63,
   "outputs": [
    {
     "name": "stdout",
     "output_type": "stream",
     "text": [
      "loading X values\n",
      "loading thetas\n",
      "Training Set Accuracy: 72.89%\n",
      "Validation Set Accuracy: 43.02%\n"
     ]
    }
   ],
   "source": [
    "print(\"loading X values\")\n",
    "X = np.loadtxt(f'{pathToStoreData}\\\\processed data\\\\validating set.csv', delimiter=',')\n",
    "print(\"loading thetas\")\n",
    "nn_params = np.loadtxt(f'{pathToStoreData}\\\\optimized network\\\\trained thetas.csv', delimiter=',')\n",
    "optimizedThetas = neuralNetwork.nnparamsToThetas(nn_params, input_layer_size, hidden_layer_size,\n",
    "                                                 hidden_layer_count, num_labels)\n",
    "yVal = X[:, -1]\n",
    "XVal = X[:, :-1]\n",
    "predTrain = neuralNetwork.predict(optimizedThetas, XTrain)\n",
    "predVal = neuralNetwork.predict(optimizedThetas, XVal)\n",
    "print('Training Set Accuracy: {:.2f}%'.format(np.mean(predTrain == yTrain) * 100))\n",
    "print('Validation Set Accuracy: {:.2f}%'.format(np.mean(predVal == yVal) * 100))"
   ],
   "metadata": {
    "collapsed": false
   }
  },
  {
   "cell_type": "markdown",
   "source": [
    "Dit is gewoon om een splitsing te maken tussen manuele training van het neurale netwerk en het automatisch trainen"
   ],
   "metadata": {
    "collapsed": false
   }
  },
  {
   "cell_type": "code",
   "execution_count": 48,
   "outputs": [],
   "source": [
    "#new version using validation set to find the best neural network shape\n",
    "X = np.loadtxt(f'{pathToStoreData}\\\\processed data\\\\training set.csv', delimiter=',')\n",
    "yTrain = X[:, -1]\n",
    "XTrain = X[:, :-1]\n",
    "X = np.loadtxt(f'{pathToStoreData}\\\\processed data\\\\validating set.csv', delimiter=',')\n",
    "yVal = X[:, -1]\n",
    "XVal = X[:, :-1]\n",
    "input_layer_size = XTrain.shape[1]\n",
    "num_labels = outputSize"
   ],
   "metadata": {
    "collapsed": false
   }
  },
  {
   "cell_type": "code",
   "execution_count": 53,
   "outputs": [
    {
     "name": "stdout",
     "output_type": "stream",
     "text": [
      "estimated time: Very long\n",
      "lambda: 0, layer count: 1, layer size: 100\n",
      "optimizing network\n"
     ]
    },
    {
     "name": "stderr",
     "output_type": "stream",
     "text": [
      "C:\\Users\\glenn\\OneDrive - KU Leuven\\Master Industrieel 1\\sem 1\\Machine Learning\\lab\\flyingFalcons\\neuralNetwork.py:178: RuntimeWarning: overflow encountered in exp\n",
      "  gz = 1.0 / (1.0 + np.exp(-z))\n"
     ]
    },
    {
     "name": "stdout",
     "output_type": "stream",
     "text": [
      "it took 27.02249026298523 seconds to optimize neural network\n",
      "optimizing network\n",
      "it took 25.086798906326294 seconds to optimize neural network\n",
      "latest prediction:  32.26744186046512\n",
      "Best Prediction: 32.26744186046512\n",
      "lambda: 1, layer count: 1, layer size: 100\n",
      "optimizing network\n",
      "it took 24.69231915473938 seconds to optimize neural network\n",
      "optimizing network\n",
      "it took 25.04101872444153 seconds to optimize neural network\n",
      "latest prediction:  29.360465116279073\n",
      "Best Prediction: 32.26744186046512\n",
      "lambda: 2, layer count: 1, layer size: 100\n",
      "optimizing network\n",
      "it took 25.401862382888794 seconds to optimize neural network\n",
      "optimizing network\n",
      "it took 24.47681188583374 seconds to optimize neural network\n",
      "latest prediction:  34.593023255813954\n",
      "Best Prediction: 34.593023255813954\n",
      "lambda: 3, layer count: 1, layer size: 100\n",
      "optimizing network\n",
      "it took 24.268869876861572 seconds to optimize neural network\n",
      "optimizing network\n",
      "it took 24.889227628707886 seconds to optimize neural network\n",
      "latest prediction:  26.744186046511626\n",
      "Best Prediction: 34.593023255813954\n",
      "lambda: 4, layer count: 1, layer size: 100\n",
      "optimizing network\n",
      "it took 24.492534160614014 seconds to optimize neural network\n",
      "optimizing network\n",
      "it took 24.5537109375 seconds to optimize neural network\n",
      "latest prediction:  26.16279069767442\n",
      "Best Prediction: 34.593023255813954\n",
      "lambda: 5, layer count: 1, layer size: 100\n",
      "optimizing network\n",
      "it took 24.02152109146118 seconds to optimize neural network\n",
      "optimizing network\n",
      "it took 27.32868456840515 seconds to optimize neural network\n",
      "latest prediction:  30.23255813953488\n",
      "Best Prediction: 34.593023255813954\n",
      "lambda: 0, layer count: 1, layer size: 200\n",
      "optimizing network\n",
      "it took 42.17267560958862 seconds to optimize neural network\n",
      "optimizing network\n",
      "it took 40.86071491241455 seconds to optimize neural network\n",
      "latest prediction:  32.848837209302324\n",
      "Best Prediction: 34.593023255813954\n",
      "lambda: 1, layer count: 1, layer size: 200\n",
      "optimizing network\n",
      "it took 42.20988893508911 seconds to optimize neural network\n",
      "optimizing network\n",
      "it took 42.493632316589355 seconds to optimize neural network\n",
      "latest prediction:  31.976744186046513\n",
      "Best Prediction: 34.593023255813954\n",
      "lambda: 2, layer count: 1, layer size: 200\n",
      "optimizing network\n",
      "it took 43.40524673461914 seconds to optimize neural network\n",
      "optimizing network\n",
      "it took 42.58276987075806 seconds to optimize neural network\n",
      "latest prediction:  32.26744186046512\n",
      "Best Prediction: 34.593023255813954\n",
      "lambda: 3, layer count: 1, layer size: 200\n",
      "optimizing network\n",
      "it took 43.06547260284424 seconds to optimize neural network\n",
      "optimizing network\n",
      "it took 43.00192046165466 seconds to optimize neural network\n",
      "latest prediction:  28.488372093023255\n",
      "Best Prediction: 34.593023255813954\n",
      "lambda: 4, layer count: 1, layer size: 200\n",
      "optimizing network\n",
      "it took 43.252049922943115 seconds to optimize neural network\n",
      "optimizing network\n",
      "it took 43.53178882598877 seconds to optimize neural network\n",
      "latest prediction:  32.26744186046512\n",
      "Best Prediction: 34.593023255813954\n",
      "lambda: 5, layer count: 1, layer size: 200\n",
      "optimizing network\n",
      "it took 42.53448963165283 seconds to optimize neural network\n",
      "optimizing network\n",
      "it took 42.49156594276428 seconds to optimize neural network\n",
      "latest prediction:  28.488372093023255\n",
      "Best Prediction: 34.593023255813954\n",
      "lambda: 0, layer count: 1, layer size: 300\n",
      "optimizing network\n",
      "it took 56.40563225746155 seconds to optimize neural network\n",
      "optimizing network\n",
      "it took 58.22090697288513 seconds to optimize neural network\n",
      "latest prediction:  30.813953488372093\n",
      "Best Prediction: 34.593023255813954\n",
      "lambda: 1, layer count: 1, layer size: 300\n",
      "optimizing network\n",
      "it took 57.03202509880066 seconds to optimize neural network\n",
      "optimizing network\n",
      "it took 56.409361600875854 seconds to optimize neural network\n",
      "latest prediction:  31.976744186046513\n",
      "Best Prediction: 34.593023255813954\n",
      "lambda: 2, layer count: 1, layer size: 300\n",
      "optimizing network\n",
      "it took 55.922314167022705 seconds to optimize neural network\n",
      "optimizing network\n",
      "it took 56.05632281303406 seconds to optimize neural network\n",
      "latest prediction:  40.406976744186046\n",
      "Best Prediction: 40.406976744186046\n",
      "lambda: 3, layer count: 1, layer size: 300\n",
      "optimizing network\n",
      "it took 56.81681203842163 seconds to optimize neural network\n",
      "optimizing network\n",
      "it took 61.160475730895996 seconds to optimize neural network\n",
      "latest prediction:  30.23255813953488\n",
      "Best Prediction: 40.406976744186046\n",
      "lambda: 4, layer count: 1, layer size: 300\n",
      "optimizing network\n",
      "it took 56.891592502593994 seconds to optimize neural network\n",
      "optimizing network\n",
      "it took 54.03833079338074 seconds to optimize neural network\n",
      "latest prediction:  45.348837209302324\n",
      "Best Prediction: 45.348837209302324\n",
      "lambda: 5, layer count: 1, layer size: 300\n",
      "optimizing network\n",
      "it took 55.3853063583374 seconds to optimize neural network\n",
      "optimizing network\n",
      "it took 55.79335165023804 seconds to optimize neural network\n",
      "latest prediction:  23.837209302325583\n",
      "Best Prediction: 45.348837209302324\n",
      "lambda: 0, layer count: 1, layer size: 400\n",
      "optimizing network\n",
      "it took 70.5117392539978 seconds to optimize neural network\n",
      "optimizing network\n",
      "it took 69.35348510742188 seconds to optimize neural network\n",
      "latest prediction:  16.569767441860463\n",
      "Best Prediction: 45.348837209302324\n",
      "lambda: 1, layer count: 1, layer size: 400\n",
      "optimizing network\n",
      "it took 69.1884617805481 seconds to optimize neural network\n",
      "optimizing network\n",
      "it took 72.37144374847412 seconds to optimize neural network\n",
      "latest prediction:  34.30232558139535\n",
      "Best Prediction: 45.348837209302324\n",
      "lambda: 2, layer count: 1, layer size: 400\n",
      "optimizing network\n",
      "it took 68.24607539176941 seconds to optimize neural network\n",
      "optimizing network\n",
      "it took 67.98607158660889 seconds to optimize neural network\n",
      "latest prediction:  26.744186046511626\n",
      "Best Prediction: 45.348837209302324\n",
      "lambda: 3, layer count: 1, layer size: 400\n",
      "optimizing network\n",
      "it took 69.84987616539001 seconds to optimize neural network\n",
      "optimizing network\n",
      "it took 67.4306538105011 seconds to optimize neural network\n",
      "latest prediction:  20.058139534883722\n",
      "Best Prediction: 45.348837209302324\n",
      "lambda: 4, layer count: 1, layer size: 400\n",
      "optimizing network\n",
      "it took 66.92690253257751 seconds to optimize neural network\n",
      "optimizing network\n",
      "it took 66.99917221069336 seconds to optimize neural network\n",
      "latest prediction:  21.802325581395348\n",
      "Best Prediction: 45.348837209302324\n",
      "lambda: 5, layer count: 1, layer size: 400\n",
      "optimizing network\n",
      "it took 72.10646772384644 seconds to optimize neural network\n",
      "optimizing network\n",
      "it took 72.23459839820862 seconds to optimize neural network\n",
      "latest prediction:  35.75581395348838\n",
      "Best Prediction: 45.348837209302324\n",
      "lambda: 0, layer count: 1, layer size: 500\n",
      "optimizing network\n",
      "it took 87.72937560081482 seconds to optimize neural network\n",
      "optimizing network\n",
      "it took 79.16003012657166 seconds to optimize neural network\n",
      "latest prediction:  28.77906976744186\n",
      "Best Prediction: 45.348837209302324\n",
      "lambda: 1, layer count: 1, layer size: 500\n",
      "optimizing network\n",
      "it took 82.73018789291382 seconds to optimize neural network\n",
      "optimizing network\n",
      "it took 83.96332740783691 seconds to optimize neural network\n",
      "latest prediction:  31.3953488372093\n",
      "Best Prediction: 45.348837209302324\n",
      "lambda: 2, layer count: 1, layer size: 500\n",
      "optimizing network\n",
      "it took 83.17749428749084 seconds to optimize neural network\n",
      "optimizing network\n",
      "it took 81.16251683235168 seconds to optimize neural network\n",
      "latest prediction:  36.04651162790697\n",
      "Best Prediction: 45.348837209302324\n",
      "lambda: 3, layer count: 1, layer size: 500\n",
      "optimizing network\n",
      "it took 81.85228109359741 seconds to optimize neural network\n",
      "optimizing network\n",
      "it took 83.69998121261597 seconds to optimize neural network\n",
      "latest prediction:  28.77906976744186\n",
      "Best Prediction: 45.348837209302324\n",
      "lambda: 4, layer count: 1, layer size: 500\n",
      "optimizing network\n",
      "it took 84.5104432106018 seconds to optimize neural network\n",
      "optimizing network\n",
      "it took 82.06711864471436 seconds to optimize neural network\n",
      "latest prediction:  28.197674418604652\n",
      "Best Prediction: 45.348837209302324\n",
      "lambda: 5, layer count: 1, layer size: 500\n",
      "optimizing network\n",
      "it took 81.0125801563263 seconds to optimize neural network\n",
      "optimizing network\n",
      "it took 85.37417769432068 seconds to optimize neural network\n",
      "latest prediction:  26.453488372093027\n",
      "Best Prediction: 45.348837209302324\n",
      "lambda: 0, layer count: 1, layer size: 600\n",
      "optimizing network\n",
      "it took 100.6195740699768 seconds to optimize neural network\n",
      "optimizing network\n",
      "it took 98.30319619178772 seconds to optimize neural network\n",
      "latest prediction:  33.43023255813954\n",
      "Best Prediction: 45.348837209302324\n",
      "lambda: 1, layer count: 1, layer size: 600\n",
      "optimizing network\n",
      "it took 98.82726716995239 seconds to optimize neural network\n",
      "optimizing network\n",
      "it took 95.63380694389343 seconds to optimize neural network\n",
      "latest prediction:  20.058139534883722\n",
      "Best Prediction: 45.348837209302324\n",
      "lambda: 2, layer count: 1, layer size: 600\n",
      "optimizing network\n",
      "it took 99.65180587768555 seconds to optimize neural network\n",
      "optimizing network\n",
      "it took 96.2704861164093 seconds to optimize neural network\n",
      "latest prediction:  42.44186046511628\n",
      "Best Prediction: 45.348837209302324\n",
      "lambda: 3, layer count: 1, layer size: 600\n",
      "optimizing network\n",
      "it took 100.23954653739929 seconds to optimize neural network\n",
      "optimizing network\n",
      "it took 92.38612675666809 seconds to optimize neural network\n",
      "latest prediction:  28.77906976744186\n",
      "Best Prediction: 45.348837209302324\n",
      "lambda: 4, layer count: 1, layer size: 600\n",
      "optimizing network\n",
      "it took 95.7462387084961 seconds to optimize neural network\n",
      "optimizing network\n",
      "it took 99.8696231842041 seconds to optimize neural network\n",
      "latest prediction:  27.906976744186046\n",
      "Best Prediction: 45.348837209302324\n",
      "lambda: 5, layer count: 1, layer size: 600\n",
      "optimizing network\n",
      "it took 96.53368043899536 seconds to optimize neural network\n",
      "optimizing network\n",
      "it took 96.65965509414673 seconds to optimize neural network\n",
      "latest prediction:  31.1046511627907\n",
      "Best Prediction: 45.348837209302324\n",
      "lambda: 0, layer count: 1, layer size: 700\n",
      "optimizing network\n",
      "it took 115.15992617607117 seconds to optimize neural network\n",
      "optimizing network\n",
      "it took 116.53631734848022 seconds to optimize neural network\n",
      "latest prediction:  29.069767441860467\n",
      "Best Prediction: 45.348837209302324\n",
      "lambda: 1, layer count: 1, layer size: 700\n",
      "optimizing network\n",
      "it took 109.35584044456482 seconds to optimize neural network\n",
      "optimizing network\n",
      "it took 105.15749621391296 seconds to optimize neural network\n",
      "latest prediction:  20.348837209302324\n",
      "Best Prediction: 45.348837209302324\n",
      "lambda: 2, layer count: 1, layer size: 700\n",
      "optimizing network\n",
      "it took 108.28204369544983 seconds to optimize neural network\n",
      "optimizing network\n",
      "it took 112.10096979141235 seconds to optimize neural network\n",
      "latest prediction:  27.03488372093023\n",
      "Best Prediction: 45.348837209302324\n",
      "lambda: 3, layer count: 1, layer size: 700\n",
      "optimizing network\n",
      "it took 113.34716773033142 seconds to optimize neural network\n",
      "optimizing network\n",
      "it took 113.11201810836792 seconds to optimize neural network\n",
      "latest prediction:  25.872093023255815\n",
      "Best Prediction: 45.348837209302324\n",
      "lambda: 4, layer count: 1, layer size: 700\n",
      "optimizing network\n",
      "it took 113.40715789794922 seconds to optimize neural network\n",
      "optimizing network\n",
      "it took 109.86394000053406 seconds to optimize neural network\n",
      "latest prediction:  31.3953488372093\n",
      "Best Prediction: 45.348837209302324\n",
      "lambda: 5, layer count: 1, layer size: 700\n",
      "optimizing network\n",
      "it took 111.01419949531555 seconds to optimize neural network\n",
      "optimizing network\n",
      "it took 103.95947813987732 seconds to optimize neural network\n",
      "latest prediction:  29.360465116279073\n",
      "Best Prediction: 45.348837209302324\n",
      "lambda: 0, layer count: 1, layer size: 800\n",
      "optimizing network\n",
      "it took 117.90317583084106 seconds to optimize neural network\n",
      "optimizing network\n",
      "it took 118.94269561767578 seconds to optimize neural network\n",
      "latest prediction:  28.197674418604652\n",
      "Best Prediction: 45.348837209302324\n",
      "lambda: 1, layer count: 1, layer size: 800\n",
      "optimizing network\n",
      "it took 119.67489886283875 seconds to optimize neural network\n",
      "optimizing network\n",
      "it took 123.26188659667969 seconds to optimize neural network\n",
      "latest prediction:  29.941860465116278\n",
      "Best Prediction: 45.348837209302324\n",
      "lambda: 2, layer count: 1, layer size: 800\n",
      "optimizing network\n",
      "it took 120.89081978797913 seconds to optimize neural network\n",
      "optimizing network\n",
      "it took 116.3396110534668 seconds to optimize neural network\n",
      "latest prediction:  32.26744186046512\n",
      "Best Prediction: 45.348837209302324\n",
      "lambda: 3, layer count: 1, layer size: 800\n",
      "optimizing network\n",
      "it took 121.93826055526733 seconds to optimize neural network\n",
      "optimizing network\n",
      "it took 119.72447204589844 seconds to optimize neural network\n",
      "latest prediction:  28.488372093023255\n",
      "Best Prediction: 45.348837209302324\n",
      "lambda: 4, layer count: 1, layer size: 800\n",
      "optimizing network\n",
      "it took 118.18344712257385 seconds to optimize neural network\n",
      "optimizing network\n",
      "it took 120.72053813934326 seconds to optimize neural network\n",
      "latest prediction:  41.56976744186046\n",
      "Best Prediction: 45.348837209302324\n",
      "lambda: 5, layer count: 1, layer size: 800\n",
      "optimizing network\n",
      "it took 119.12939143180847 seconds to optimize neural network\n",
      "optimizing network\n",
      "it took 116.00808572769165 seconds to optimize neural network\n",
      "latest prediction:  27.61627906976744\n",
      "Best Prediction: 45.348837209302324\n",
      "lambda: 0, layer count: 1, layer size: 900\n",
      "optimizing network\n",
      "it took 134.53529381752014 seconds to optimize neural network\n",
      "optimizing network\n",
      "it took 138.70205092430115 seconds to optimize neural network\n",
      "latest prediction:  27.03488372093023\n",
      "Best Prediction: 45.348837209302324\n",
      "lambda: 1, layer count: 1, layer size: 900\n",
      "optimizing network\n",
      "it took 135.20508694648743 seconds to optimize neural network\n",
      "optimizing network\n"
     ]
    },
    {
     "ename": "KeyboardInterrupt",
     "evalue": "",
     "output_type": "error",
     "traceback": [
      "\u001B[1;31m---------------------------------------------------------------------------\u001B[0m",
      "\u001B[1;31mKeyboardInterrupt\u001B[0m                         Traceback (most recent call last)",
      "\u001B[1;32m~\\AppData\\Local\\Temp\\ipykernel_8348\\3785292564.py\u001B[0m in \u001B[0;36m<module>\u001B[1;34m\u001B[0m\n\u001B[1;32m----> 1\u001B[1;33m \u001B[0mbestTheta\u001B[0m\u001B[1;33m,\u001B[0m \u001B[0mbestSize\u001B[0m\u001B[1;33m,\u001B[0m \u001B[0mbestCount\u001B[0m \u001B[1;33m=\u001B[0m \u001B[0mneuralNetwork\u001B[0m\u001B[1;33m.\u001B[0m\u001B[0mfindGoodValues\u001B[0m\u001B[1;33m(\u001B[0m\u001B[0minput_layer_size\u001B[0m\u001B[1;33m,\u001B[0m \u001B[0mnum_labels\u001B[0m\u001B[1;33m,\u001B[0m \u001B[0mXTrain\u001B[0m\u001B[1;33m,\u001B[0m \u001B[0myTrain\u001B[0m\u001B[1;33m,\u001B[0m \u001B[0mXVal\u001B[0m\u001B[1;33m,\u001B[0m \u001B[0myVal\u001B[0m\u001B[1;33m)\u001B[0m\u001B[1;33m\u001B[0m\u001B[1;33m\u001B[0m\u001B[0m\n\u001B[0m",
      "\u001B[1;32m~\\OneDrive - KU Leuven\\Master Industrieel 1\\sem 1\\Machine Learning\\lab\\flyingFalcons\\neuralNetwork.py\u001B[0m in \u001B[0;36mfindGoodValues\u001B[1;34m(input_layer_size, num_labels, XTrain, yTrain, XVal, yVal)\u001B[0m\n\u001B[0;32m     60\u001B[0m                 \u001B[0moldIterPred\u001B[0m \u001B[1;33m=\u001B[0m \u001B[0mnp\u001B[0m\u001B[1;33m.\u001B[0m\u001B[0mmean\u001B[0m\u001B[1;33m(\u001B[0m\u001B[0mpredict\u001B[0m\u001B[1;33m(\u001B[0m\u001B[0mshapedTheta\u001B[0m\u001B[1;33m,\u001B[0m \u001B[0mXVal\u001B[0m\u001B[1;33m)\u001B[0m \u001B[1;33m==\u001B[0m \u001B[0myVal\u001B[0m\u001B[1;33m)\u001B[0m \u001B[1;33m*\u001B[0m \u001B[1;36m100\u001B[0m\u001B[1;33m\u001B[0m\u001B[1;33m\u001B[0m\u001B[0m\n\u001B[0;32m     61\u001B[0m                 \u001B[1;32mwhile\u001B[0m \u001B[1;32mTrue\u001B[0m\u001B[1;33m:\u001B[0m\u001B[1;33m\u001B[0m\u001B[1;33m\u001B[0m\u001B[0m\n\u001B[1;32m---> 62\u001B[1;33m                     newTheta = optimizeNN(maxiter, input_layer_size, hidden_layer_size, hidden_layer_count, num_labels,\n\u001B[0m\u001B[0;32m     63\u001B[0m                                           XTrain, yTrain, lambda_, True, oldTheta)\n\u001B[0;32m     64\u001B[0m                     shapedTheta = nnparamsToThetas(newTheta, input_layer_size, hidden_layer_size, hidden_layer_count,\n",
      "\u001B[1;32m~\\OneDrive - KU Leuven\\Master Industrieel 1\\sem 1\\Machine Learning\\lab\\flyingFalcons\\neuralNetwork.py\u001B[0m in \u001B[0;36moptimizeNN\u001B[1;34m(maxIter, input_layer_size, hidden_layer_size, hidden_layer_count, num_labels, X, y, lambda_, useOtherThetas, initThetas)\u001B[0m\n\u001B[0;32m    162\u001B[0m         \u001B[0minitial_nn_params\u001B[0m \u001B[1;33m=\u001B[0m \u001B[0mnp\u001B[0m\u001B[1;33m.\u001B[0m\u001B[0mconcatenate\u001B[0m\u001B[1;33m(\u001B[0m\u001B[1;33m[\u001B[0m\u001B[0mtheta\u001B[0m\u001B[1;33m.\u001B[0m\u001B[0mravel\u001B[0m\u001B[1;33m(\u001B[0m\u001B[1;33m)\u001B[0m \u001B[1;32mfor\u001B[0m \u001B[0mtheta\u001B[0m \u001B[1;32min\u001B[0m \u001B[0minitialThetas\u001B[0m\u001B[1;33m]\u001B[0m\u001B[1;33m,\u001B[0m \u001B[0maxis\u001B[0m\u001B[1;33m=\u001B[0m\u001B[1;36m0\u001B[0m\u001B[1;33m)\u001B[0m\u001B[1;33m\u001B[0m\u001B[1;33m\u001B[0m\u001B[0m\n\u001B[0;32m    163\u001B[0m \u001B[1;33m\u001B[0m\u001B[0m\n\u001B[1;32m--> 164\u001B[1;33m     res = optimize.minimize(costFunction,\n\u001B[0m\u001B[0;32m    165\u001B[0m                             \u001B[0minitial_nn_params\u001B[0m\u001B[1;33m,\u001B[0m\u001B[1;33m\u001B[0m\u001B[1;33m\u001B[0m\u001B[0m\n\u001B[0;32m    166\u001B[0m                             \u001B[0mjac\u001B[0m\u001B[1;33m=\u001B[0m\u001B[1;32mTrue\u001B[0m\u001B[1;33m,\u001B[0m\u001B[1;33m\u001B[0m\u001B[1;33m\u001B[0m\u001B[0m\n",
      "\u001B[1;32m~\\anaconda3\\lib\\site-packages\\scipy\\optimize\\_minimize.py\u001B[0m in \u001B[0;36mminimize\u001B[1;34m(fun, x0, args, method, jac, hess, hessp, bounds, constraints, tol, callback, options)\u001B[0m\n\u001B[0;32m    700\u001B[0m                                callback=callback, **options)\n\u001B[0;32m    701\u001B[0m     \u001B[1;32melif\u001B[0m \u001B[0mmeth\u001B[0m \u001B[1;33m==\u001B[0m \u001B[1;34m'tnc'\u001B[0m\u001B[1;33m:\u001B[0m\u001B[1;33m\u001B[0m\u001B[1;33m\u001B[0m\u001B[0m\n\u001B[1;32m--> 702\u001B[1;33m         res = _minimize_tnc(fun, x0, args, jac, bounds, callback=callback,\n\u001B[0m\u001B[0;32m    703\u001B[0m                             **options)\n\u001B[0;32m    704\u001B[0m     \u001B[1;32melif\u001B[0m \u001B[0mmeth\u001B[0m \u001B[1;33m==\u001B[0m \u001B[1;34m'cobyla'\u001B[0m\u001B[1;33m:\u001B[0m\u001B[1;33m\u001B[0m\u001B[1;33m\u001B[0m\u001B[0m\n",
      "\u001B[1;32m~\\anaconda3\\lib\\site-packages\\scipy\\optimize\\_tnc.py\u001B[0m in \u001B[0;36m_minimize_tnc\u001B[1;34m(fun, x0, args, jac, bounds, eps, scale, offset, mesg_num, maxCGit, maxiter, eta, stepmx, accuracy, minfev, ftol, xtol, gtol, rescale, disp, callback, finite_diff_rel_step, maxfun, **unknown_options)\u001B[0m\n\u001B[0;32m    422\u001B[0m             \u001B[0mmaxfun\u001B[0m \u001B[1;33m=\u001B[0m \u001B[0mmax\u001B[0m\u001B[1;33m(\u001B[0m\u001B[1;36m100\u001B[0m\u001B[1;33m,\u001B[0m \u001B[1;36m10\u001B[0m\u001B[1;33m*\u001B[0m\u001B[0mlen\u001B[0m\u001B[1;33m(\u001B[0m\u001B[0mx0\u001B[0m\u001B[1;33m)\u001B[0m\u001B[1;33m)\u001B[0m\u001B[1;33m\u001B[0m\u001B[1;33m\u001B[0m\u001B[0m\n\u001B[0;32m    423\u001B[0m \u001B[1;33m\u001B[0m\u001B[0m\n\u001B[1;32m--> 424\u001B[1;33m     rc, nf, nit, x, funv, jacv = moduleTNC.tnc_minimize(\n\u001B[0m\u001B[0;32m    425\u001B[0m         \u001B[0mfunc_and_grad\u001B[0m\u001B[1;33m,\u001B[0m \u001B[0mx0\u001B[0m\u001B[1;33m,\u001B[0m \u001B[0mlow\u001B[0m\u001B[1;33m,\u001B[0m \u001B[0mup\u001B[0m\u001B[1;33m,\u001B[0m \u001B[0mscale\u001B[0m\u001B[1;33m,\u001B[0m\u001B[1;33m\u001B[0m\u001B[1;33m\u001B[0m\u001B[0m\n\u001B[0;32m    426\u001B[0m         \u001B[0moffset\u001B[0m\u001B[1;33m,\u001B[0m \u001B[0mmessages\u001B[0m\u001B[1;33m,\u001B[0m \u001B[0mmaxCGit\u001B[0m\u001B[1;33m,\u001B[0m \u001B[0mmaxfun\u001B[0m\u001B[1;33m,\u001B[0m\u001B[1;33m\u001B[0m\u001B[1;33m\u001B[0m\u001B[0m\n",
      "\u001B[1;32m_moduleTNC.pyx\u001B[0m in \u001B[0;36m_moduleTNC.tnc_minimize\u001B[1;34m()\u001B[0m\n",
      "\u001B[1;32m_moduleTNC.pyx\u001B[0m in \u001B[0;36m_moduleTNC.function\u001B[1;34m()\u001B[0m\n",
      "\u001B[1;32m~\\anaconda3\\lib\\site-packages\\scipy\\optimize\\_differentiable_functions.py\u001B[0m in \u001B[0;36mfun_and_grad\u001B[1;34m(self, x)\u001B[0m\n\u001B[0;32m    283\u001B[0m         \u001B[1;32mif\u001B[0m \u001B[1;32mnot\u001B[0m \u001B[0mnp\u001B[0m\u001B[1;33m.\u001B[0m\u001B[0marray_equal\u001B[0m\u001B[1;33m(\u001B[0m\u001B[0mx\u001B[0m\u001B[1;33m,\u001B[0m \u001B[0mself\u001B[0m\u001B[1;33m.\u001B[0m\u001B[0mx\u001B[0m\u001B[1;33m)\u001B[0m\u001B[1;33m:\u001B[0m\u001B[1;33m\u001B[0m\u001B[1;33m\u001B[0m\u001B[0m\n\u001B[0;32m    284\u001B[0m             \u001B[0mself\u001B[0m\u001B[1;33m.\u001B[0m\u001B[0m_update_x_impl\u001B[0m\u001B[1;33m(\u001B[0m\u001B[0mx\u001B[0m\u001B[1;33m)\u001B[0m\u001B[1;33m\u001B[0m\u001B[1;33m\u001B[0m\u001B[0m\n\u001B[1;32m--> 285\u001B[1;33m         \u001B[0mself\u001B[0m\u001B[1;33m.\u001B[0m\u001B[0m_update_fun\u001B[0m\u001B[1;33m(\u001B[0m\u001B[1;33m)\u001B[0m\u001B[1;33m\u001B[0m\u001B[1;33m\u001B[0m\u001B[0m\n\u001B[0m\u001B[0;32m    286\u001B[0m         \u001B[0mself\u001B[0m\u001B[1;33m.\u001B[0m\u001B[0m_update_grad\u001B[0m\u001B[1;33m(\u001B[0m\u001B[1;33m)\u001B[0m\u001B[1;33m\u001B[0m\u001B[1;33m\u001B[0m\u001B[0m\n\u001B[0;32m    287\u001B[0m         \u001B[1;32mreturn\u001B[0m \u001B[0mself\u001B[0m\u001B[1;33m.\u001B[0m\u001B[0mf\u001B[0m\u001B[1;33m,\u001B[0m \u001B[0mself\u001B[0m\u001B[1;33m.\u001B[0m\u001B[0mg\u001B[0m\u001B[1;33m\u001B[0m\u001B[1;33m\u001B[0m\u001B[0m\n",
      "\u001B[1;32m~\\anaconda3\\lib\\site-packages\\scipy\\optimize\\_differentiable_functions.py\u001B[0m in \u001B[0;36m_update_fun\u001B[1;34m(self)\u001B[0m\n\u001B[0;32m    249\u001B[0m     \u001B[1;32mdef\u001B[0m \u001B[0m_update_fun\u001B[0m\u001B[1;33m(\u001B[0m\u001B[0mself\u001B[0m\u001B[1;33m)\u001B[0m\u001B[1;33m:\u001B[0m\u001B[1;33m\u001B[0m\u001B[1;33m\u001B[0m\u001B[0m\n\u001B[0;32m    250\u001B[0m         \u001B[1;32mif\u001B[0m \u001B[1;32mnot\u001B[0m \u001B[0mself\u001B[0m\u001B[1;33m.\u001B[0m\u001B[0mf_updated\u001B[0m\u001B[1;33m:\u001B[0m\u001B[1;33m\u001B[0m\u001B[1;33m\u001B[0m\u001B[0m\n\u001B[1;32m--> 251\u001B[1;33m             \u001B[0mself\u001B[0m\u001B[1;33m.\u001B[0m\u001B[0m_update_fun_impl\u001B[0m\u001B[1;33m(\u001B[0m\u001B[1;33m)\u001B[0m\u001B[1;33m\u001B[0m\u001B[1;33m\u001B[0m\u001B[0m\n\u001B[0m\u001B[0;32m    252\u001B[0m             \u001B[0mself\u001B[0m\u001B[1;33m.\u001B[0m\u001B[0mf_updated\u001B[0m \u001B[1;33m=\u001B[0m \u001B[1;32mTrue\u001B[0m\u001B[1;33m\u001B[0m\u001B[1;33m\u001B[0m\u001B[0m\n\u001B[0;32m    253\u001B[0m \u001B[1;33m\u001B[0m\u001B[0m\n",
      "\u001B[1;32m~\\anaconda3\\lib\\site-packages\\scipy\\optimize\\_differentiable_functions.py\u001B[0m in \u001B[0;36mupdate_fun\u001B[1;34m()\u001B[0m\n\u001B[0;32m    153\u001B[0m \u001B[1;33m\u001B[0m\u001B[0m\n\u001B[0;32m    154\u001B[0m         \u001B[1;32mdef\u001B[0m \u001B[0mupdate_fun\u001B[0m\u001B[1;33m(\u001B[0m\u001B[1;33m)\u001B[0m\u001B[1;33m:\u001B[0m\u001B[1;33m\u001B[0m\u001B[1;33m\u001B[0m\u001B[0m\n\u001B[1;32m--> 155\u001B[1;33m             \u001B[0mself\u001B[0m\u001B[1;33m.\u001B[0m\u001B[0mf\u001B[0m \u001B[1;33m=\u001B[0m \u001B[0mfun_wrapped\u001B[0m\u001B[1;33m(\u001B[0m\u001B[0mself\u001B[0m\u001B[1;33m.\u001B[0m\u001B[0mx\u001B[0m\u001B[1;33m)\u001B[0m\u001B[1;33m\u001B[0m\u001B[1;33m\u001B[0m\u001B[0m\n\u001B[0m\u001B[0;32m    156\u001B[0m \u001B[1;33m\u001B[0m\u001B[0m\n\u001B[0;32m    157\u001B[0m         \u001B[0mself\u001B[0m\u001B[1;33m.\u001B[0m\u001B[0m_update_fun_impl\u001B[0m \u001B[1;33m=\u001B[0m \u001B[0mupdate_fun\u001B[0m\u001B[1;33m\u001B[0m\u001B[1;33m\u001B[0m\u001B[0m\n",
      "\u001B[1;32m~\\anaconda3\\lib\\site-packages\\scipy\\optimize\\_differentiable_functions.py\u001B[0m in \u001B[0;36mfun_wrapped\u001B[1;34m(x)\u001B[0m\n\u001B[0;32m    135\u001B[0m             \u001B[1;31m# Overwriting results in undefined behaviour because\u001B[0m\u001B[1;33m\u001B[0m\u001B[1;33m\u001B[0m\u001B[0m\n\u001B[0;32m    136\u001B[0m             \u001B[1;31m# fun(self.x) will change self.x, with the two no longer linked.\u001B[0m\u001B[1;33m\u001B[0m\u001B[1;33m\u001B[0m\u001B[0m\n\u001B[1;32m--> 137\u001B[1;33m             \u001B[0mfx\u001B[0m \u001B[1;33m=\u001B[0m \u001B[0mfun\u001B[0m\u001B[1;33m(\u001B[0m\u001B[0mnp\u001B[0m\u001B[1;33m.\u001B[0m\u001B[0mcopy\u001B[0m\u001B[1;33m(\u001B[0m\u001B[0mx\u001B[0m\u001B[1;33m)\u001B[0m\u001B[1;33m,\u001B[0m \u001B[1;33m*\u001B[0m\u001B[0margs\u001B[0m\u001B[1;33m)\u001B[0m\u001B[1;33m\u001B[0m\u001B[1;33m\u001B[0m\u001B[0m\n\u001B[0m\u001B[0;32m    138\u001B[0m             \u001B[1;31m# Make sure the function returns a true scalar\u001B[0m\u001B[1;33m\u001B[0m\u001B[1;33m\u001B[0m\u001B[0m\n\u001B[0;32m    139\u001B[0m             \u001B[1;32mif\u001B[0m \u001B[1;32mnot\u001B[0m \u001B[0mnp\u001B[0m\u001B[1;33m.\u001B[0m\u001B[0misscalar\u001B[0m\u001B[1;33m(\u001B[0m\u001B[0mfx\u001B[0m\u001B[1;33m)\u001B[0m\u001B[1;33m:\u001B[0m\u001B[1;33m\u001B[0m\u001B[1;33m\u001B[0m\u001B[0m\n",
      "\u001B[1;32m~\\anaconda3\\lib\\site-packages\\scipy\\optimize\\_optimize.py\u001B[0m in \u001B[0;36m__call__\u001B[1;34m(self, x, *args)\u001B[0m\n\u001B[0;32m     74\u001B[0m     \u001B[1;32mdef\u001B[0m \u001B[0m__call__\u001B[0m\u001B[1;33m(\u001B[0m\u001B[0mself\u001B[0m\u001B[1;33m,\u001B[0m \u001B[0mx\u001B[0m\u001B[1;33m,\u001B[0m \u001B[1;33m*\u001B[0m\u001B[0margs\u001B[0m\u001B[1;33m)\u001B[0m\u001B[1;33m:\u001B[0m\u001B[1;33m\u001B[0m\u001B[1;33m\u001B[0m\u001B[0m\n\u001B[0;32m     75\u001B[0m         \u001B[1;34m\"\"\" returns the the function value \"\"\"\u001B[0m\u001B[1;33m\u001B[0m\u001B[1;33m\u001B[0m\u001B[0m\n\u001B[1;32m---> 76\u001B[1;33m         \u001B[0mself\u001B[0m\u001B[1;33m.\u001B[0m\u001B[0m_compute_if_needed\u001B[0m\u001B[1;33m(\u001B[0m\u001B[0mx\u001B[0m\u001B[1;33m,\u001B[0m \u001B[1;33m*\u001B[0m\u001B[0margs\u001B[0m\u001B[1;33m)\u001B[0m\u001B[1;33m\u001B[0m\u001B[1;33m\u001B[0m\u001B[0m\n\u001B[0m\u001B[0;32m     77\u001B[0m         \u001B[1;32mreturn\u001B[0m \u001B[0mself\u001B[0m\u001B[1;33m.\u001B[0m\u001B[0m_value\u001B[0m\u001B[1;33m\u001B[0m\u001B[1;33m\u001B[0m\u001B[0m\n\u001B[0;32m     78\u001B[0m \u001B[1;33m\u001B[0m\u001B[0m\n",
      "\u001B[1;32m~\\anaconda3\\lib\\site-packages\\scipy\\optimize\\_optimize.py\u001B[0m in \u001B[0;36m_compute_if_needed\u001B[1;34m(self, x, *args)\u001B[0m\n\u001B[0;32m     68\u001B[0m         \u001B[1;32mif\u001B[0m \u001B[1;32mnot\u001B[0m \u001B[0mnp\u001B[0m\u001B[1;33m.\u001B[0m\u001B[0mall\u001B[0m\u001B[1;33m(\u001B[0m\u001B[0mx\u001B[0m \u001B[1;33m==\u001B[0m \u001B[0mself\u001B[0m\u001B[1;33m.\u001B[0m\u001B[0mx\u001B[0m\u001B[1;33m)\u001B[0m \u001B[1;32mor\u001B[0m \u001B[0mself\u001B[0m\u001B[1;33m.\u001B[0m\u001B[0m_value\u001B[0m \u001B[1;32mis\u001B[0m \u001B[1;32mNone\u001B[0m \u001B[1;32mor\u001B[0m \u001B[0mself\u001B[0m\u001B[1;33m.\u001B[0m\u001B[0mjac\u001B[0m \u001B[1;32mis\u001B[0m \u001B[1;32mNone\u001B[0m\u001B[1;33m:\u001B[0m\u001B[1;33m\u001B[0m\u001B[1;33m\u001B[0m\u001B[0m\n\u001B[0;32m     69\u001B[0m             \u001B[0mself\u001B[0m\u001B[1;33m.\u001B[0m\u001B[0mx\u001B[0m \u001B[1;33m=\u001B[0m \u001B[0mnp\u001B[0m\u001B[1;33m.\u001B[0m\u001B[0masarray\u001B[0m\u001B[1;33m(\u001B[0m\u001B[0mx\u001B[0m\u001B[1;33m)\u001B[0m\u001B[1;33m.\u001B[0m\u001B[0mcopy\u001B[0m\u001B[1;33m(\u001B[0m\u001B[1;33m)\u001B[0m\u001B[1;33m\u001B[0m\u001B[1;33m\u001B[0m\u001B[0m\n\u001B[1;32m---> 70\u001B[1;33m             \u001B[0mfg\u001B[0m \u001B[1;33m=\u001B[0m \u001B[0mself\u001B[0m\u001B[1;33m.\u001B[0m\u001B[0mfun\u001B[0m\u001B[1;33m(\u001B[0m\u001B[0mx\u001B[0m\u001B[1;33m,\u001B[0m \u001B[1;33m*\u001B[0m\u001B[0margs\u001B[0m\u001B[1;33m)\u001B[0m\u001B[1;33m\u001B[0m\u001B[1;33m\u001B[0m\u001B[0m\n\u001B[0m\u001B[0;32m     71\u001B[0m             \u001B[0mself\u001B[0m\u001B[1;33m.\u001B[0m\u001B[0mjac\u001B[0m \u001B[1;33m=\u001B[0m \u001B[0mfg\u001B[0m\u001B[1;33m[\u001B[0m\u001B[1;36m1\u001B[0m\u001B[1;33m]\u001B[0m\u001B[1;33m\u001B[0m\u001B[1;33m\u001B[0m\u001B[0m\n\u001B[0;32m     72\u001B[0m             \u001B[0mself\u001B[0m\u001B[1;33m.\u001B[0m\u001B[0m_value\u001B[0m \u001B[1;33m=\u001B[0m \u001B[0mfg\u001B[0m\u001B[1;33m[\u001B[0m\u001B[1;36m0\u001B[0m\u001B[1;33m]\u001B[0m\u001B[1;33m\u001B[0m\u001B[1;33m\u001B[0m\u001B[0m\n",
      "\u001B[1;32m~\\OneDrive - KU Leuven\\Master Industrieel 1\\sem 1\\Machine Learning\\lab\\flyingFalcons\\neuralNetwork.py\u001B[0m in \u001B[0;36m<lambda>\u001B[1;34m(p)\u001B[0m\n\u001B[0;32m    150\u001B[0m     \u001B[0moptions\u001B[0m \u001B[1;33m=\u001B[0m \u001B[1;33m{\u001B[0m\u001B[1;34m'maxiter'\u001B[0m\u001B[1;33m:\u001B[0m \u001B[0mmaxIter\u001B[0m\u001B[1;33m}\u001B[0m\u001B[1;33m\u001B[0m\u001B[1;33m\u001B[0m\u001B[0m\n\u001B[0;32m    151\u001B[0m \u001B[1;33m\u001B[0m\u001B[0m\n\u001B[1;32m--> 152\u001B[1;33m     costFunction = lambda p: nnCostFunction(p, input_layer_size,\n\u001B[0m\u001B[0;32m    153\u001B[0m                                             \u001B[0mhidden_layer_size\u001B[0m\u001B[1;33m,\u001B[0m\u001B[1;33m\u001B[0m\u001B[1;33m\u001B[0m\u001B[0m\n\u001B[0;32m    154\u001B[0m                                             \u001B[0mhidden_layer_count\u001B[0m\u001B[1;33m,\u001B[0m\u001B[1;33m\u001B[0m\u001B[1;33m\u001B[0m\u001B[0m\n",
      "\u001B[1;32m~\\OneDrive - KU Leuven\\Master Industrieel 1\\sem 1\\Machine Learning\\lab\\flyingFalcons\\neuralNetwork.py\u001B[0m in \u001B[0;36mnnCostFunction\u001B[1;34m(nn_params, input_layer_size, hidden_layer_size, hidden_layer_count, num_labels, X, y, lambda_)\u001B[0m\n\u001B[0;32m    133\u001B[0m \u001B[1;33m\u001B[0m\u001B[0m\n\u001B[0;32m    134\u001B[0m     \u001B[1;32mfor\u001B[0m \u001B[0mi\u001B[0m \u001B[1;32min\u001B[0m \u001B[0mrange\u001B[0m\u001B[1;33m(\u001B[0m\u001B[0mlen\u001B[0m\u001B[1;33m(\u001B[0m\u001B[0mthetas\u001B[0m\u001B[1;33m)\u001B[0m\u001B[1;33m)\u001B[0m\u001B[1;33m:\u001B[0m\u001B[1;33m\u001B[0m\u001B[1;33m\u001B[0m\u001B[0m\n\u001B[1;32m--> 135\u001B[1;33m         thetaGrads.append(np.dot(d[i], np.transpose(a[i])) / m + (lambda_ / m) * np.concatenate(\n\u001B[0m\u001B[0;32m    136\u001B[0m             \u001B[1;33m[\u001B[0m\u001B[0mnp\u001B[0m\u001B[1;33m.\u001B[0m\u001B[0mzeros\u001B[0m\u001B[1;33m(\u001B[0m\u001B[1;33m(\u001B[0m\u001B[0mthetas\u001B[0m\u001B[1;33m[\u001B[0m\u001B[0mi\u001B[0m\u001B[1;33m]\u001B[0m\u001B[1;33m[\u001B[0m\u001B[1;33m:\u001B[0m\u001B[1;33m,\u001B[0m \u001B[1;36m1\u001B[0m\u001B[1;33m:\u001B[0m\u001B[1;33m]\u001B[0m\u001B[1;33m.\u001B[0m\u001B[0mshape\u001B[0m\u001B[1;33m[\u001B[0m\u001B[1;36m0\u001B[0m\u001B[1;33m]\u001B[0m\u001B[1;33m,\u001B[0m \u001B[1;36m1\u001B[0m\u001B[1;33m)\u001B[0m\u001B[1;33m)\u001B[0m\u001B[1;33m,\u001B[0m \u001B[0mthetas\u001B[0m\u001B[1;33m[\u001B[0m\u001B[0mi\u001B[0m\u001B[1;33m]\u001B[0m\u001B[1;33m[\u001B[0m\u001B[1;33m:\u001B[0m\u001B[1;33m,\u001B[0m \u001B[1;36m1\u001B[0m\u001B[1;33m:\u001B[0m\u001B[1;33m]\u001B[0m\u001B[1;33m]\u001B[0m\u001B[1;33m,\u001B[0m\u001B[1;33m\u001B[0m\u001B[1;33m\u001B[0m\u001B[0m\n\u001B[0;32m    137\u001B[0m             axis=1))\n",
      "\u001B[1;32m<__array_function__ internals>\u001B[0m in \u001B[0;36mdot\u001B[1;34m(*args, **kwargs)\u001B[0m\n",
      "\u001B[1;31mKeyboardInterrupt\u001B[0m: "
     ]
    }
   ],
   "source": [
    "bestTheta, bestSize, bestCount = neuralNetwork.findGoodValues(input_layer_size, num_labels, XTrain, yTrain, XVal, yVal)"
   ],
   "metadata": {
    "collapsed": false
   }
  },
  {
   "cell_type": "code",
   "execution_count": null,
   "outputs": [],
   "source": [
    "FileProcessing.storeFileInFolder(f'{pathToStoreData}\\\\optimized network',\"trained thetas.csv\", bestTheta)\n",
    "FileProcessing.storeFileInFolder(f'{pathToStoreData}\\\\optimized network',\"network shape.csv\", [bestSize, bestCount])"
   ],
   "metadata": {
    "collapsed": false
   }
  },
  {
   "cell_type": "code",
   "execution_count": null,
   "outputs": [],
   "source": [
    "print(\"loading X values\")\n",
    "X = np.loadtxt(f'{pathToStoreData}\\\\processed data\\\\validating set.csv', delimiter=',')\n",
    "print(\"loading thetas\")\n",
    "nn_params = np.loadtxt(f'{pathToStoreData}\\\\optimized network\\\\trained thetas.csv', delimiter=',')\n",
    "hidden_layer_size, hidden_layer_count = np.loadtxt(f'{pathToStoreData}\\\\optimized network\\\\network shape.csv', delimiter=',')\n",
    "hidden_layer_size = int(hidden_layer_size)\n",
    "hidden_layer_count = int(hidden_layer_count)\n",
    "optimizedThetas = neuralNetwork.nnparamsToThetas(nn_params, input_layer_size, hidden_layer_size,\n",
    "                                                 hidden_layer_count, num_labels)\n",
    "yVal = X[:, -1]\n",
    "XVal = X[:, :-1]"
   ],
   "metadata": {
    "collapsed": false
   }
  },
  {
   "cell_type": "code",
   "execution_count": null,
   "outputs": [],
   "source": [
    "predTrain = neuralNetwork.predict(optimizedThetas, XTrain)\n",
    "predVal = neuralNetwork.predict(optimizedThetas, XVal)\n",
    "print('Training Set Accuracy: {:.2f}%'.format(np.mean(predTrain == yTrain) * 100))\n",
    "print('Validation Set Accuracy: {:.2f}%'.format(np.mean(predVal == yVal) * 100))"
   ],
   "metadata": {
    "collapsed": false
   }
  },
  {
   "cell_type": "code",
   "execution_count": 60,
   "outputs": [
    {
     "name": "stdout",
     "output_type": "stream",
     "text": [
      "[2.]\r"
     ]
    },
    {
     "name": "stderr",
     "output_type": "stream",
     "text": [
      "C:\\Users\\glenn\\OneDrive - KU Leuven\\Master Industrieel 1\\sem 1\\Machine Learning\\lab\\flyingFalcons\\neuralNetwork.py:179: RuntimeWarning: overflow encountered in exp\n",
      "  gz = 1.0 / (1.0 + np.exp(-z))\n"
     ]
    },
    {
     "name": "stdout",
     "output_type": "stream",
     "text": [
      "[3.]\r"
     ]
    }
   ],
   "source": [
    "nn_params = np.loadtxt(f'{pathToStoreData}\\\\optimized network\\\\trained thetas.csv', delimiter=',')\n",
    "optimizedThetas = neuralNetwork.nnparamsToThetas(nn_params, input_layer_size, hidden_layer_size,\n",
    "                                                 hidden_layer_count, num_labels)\n",
    "neuralNetwork.predictFromCamera(optimizedThetas, inputSize)"
   ],
   "metadata": {
    "collapsed": false
   }
  },
  {
   "cell_type": "code",
   "execution_count": null,
   "outputs": [],
   "source": [],
   "metadata": {
    "collapsed": false
   }
  }
 ],
 "metadata": {
  "kernelspec": {
   "display_name": "Python 3",
   "language": "python",
   "name": "python3"
  },
  "language_info": {
   "codemirror_mode": {
    "name": "ipython",
    "version": 2
   },
   "file_extension": ".py",
   "mimetype": "text/x-python",
   "name": "python",
   "nbconvert_exporter": "python",
   "pygments_lexer": "ipython2",
   "version": "2.7.6"
  }
 },
 "nbformat": 4,
 "nbformat_minor": 0
}
