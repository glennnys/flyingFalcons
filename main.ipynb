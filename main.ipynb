{
 "cells": [
  {
   "cell_type": "code",
   "execution_count": 45,
   "outputs": [
    {
     "name": "stdout",
     "output_type": "stream",
     "text": [
      "The autoreload extension is already loaded. To reload it, use:\n",
      "  %reload_ext autoreload\n"
     ]
    }
   ],
   "source": [
    "import neuralNetwork\n",
    "import numpy as np\n",
    "%load_ext autoreload\n",
    "%autoreload 1"
   ],
   "metadata": {
    "collapsed": false
   }
  },
  {
   "cell_type": "code",
   "execution_count": 132,
   "outputs": [],
   "source": [
    "#define values\n",
    "inputSize = (400, 400)\n",
    "outputSize = 40\n",
    "pathToDataset = \"C:\\\\Users\\\\glenn\\\\Documents\\\\dataset\"\n",
    "pathToStoreData = \"C:\\\\Users\\\\glenn\\\\Documents\""
   ],
   "metadata": {
    "collapsed": false
   }
  },
  {
   "cell_type": "code",
   "execution_count": 133,
   "outputs": [
    {
     "name": "stdout",
     "output_type": "stream",
     "text": [
      "created training set\n",
      "created validating set\n",
      "created test set\n",
      "it took 1755.4094364643097 seconds to import 16300 data samples\n"
     ]
    }
   ],
   "source": [
    "#import files\n",
    "neuralNetwork.importFiles(pathToDataset, pathToStoreData, inputSize, outputSize)"
   ],
   "metadata": {
    "collapsed": false
   }
  },
  {
   "cell_type": "code",
   "execution_count": null,
   "outputs": [],
   "source": [
    "#load training set into X and y\n",
    "X = np.loadtxt(f'{pathToStoreData}\\\\converted dataset\\\\training set.csv', delimiter=',')\n",
    "yTrain = X[:, -1]\n",
    "XTrain = X[:, :-1]"
   ],
   "metadata": {
    "collapsed": false,
    "pycharm": {
     "is_executing": true
    }
   }
  },
  {
   "cell_type": "code",
   "execution_count": null,
   "outputs": [],
   "source": [
    "input_layer_size = XTrain.shape[1]\n",
    "hidden_layer_size = 10000\n",
    "hidden_layer_count = 5\n",
    "num_labels = 40"
   ],
   "metadata": {
    "collapsed": false,
    "pycharm": {
     "is_executing": true
    }
   }
  },
  {
   "cell_type": "code",
   "execution_count": 120,
   "outputs": [
    {
     "name": "stdout",
     "output_type": "stream",
     "text": [
      "optimizing thetas\n"
     ]
    },
    {
     "name": "stderr",
     "output_type": "stream",
     "text": [
      "C:\\Users\\glenn\\OneDrive - KU Leuven\\Master Industrieel 1\\sem 1\\Machine Learning\\lab\\flyingFalcons\\neuralNetwork.py:71: RuntimeWarning: divide by zero encountered in log\n",
      "  a.append(np.transpose(X))\n",
      "C:\\Users\\glenn\\OneDrive - KU Leuven\\Master Industrieel 1\\sem 1\\Machine Learning\\lab\\flyingFalcons\\neuralNetwork.py:71: RuntimeWarning: invalid value encountered in multiply\n",
      "  a.append(np.transpose(X))\n"
     ]
    },
    {
     "name": "stdout",
     "output_type": "stream",
     "text": [
      "it took 279.83086585998535 seconds to optimize neural network\n"
     ]
    }
   ],
   "source": [
    "#train theta to training set and store in csv\n",
    "maxiter = 200\n",
    "lambda_ = 2\n",
    "newTheta = neuralNetwork.optimizeNN(maxiter, input_layer_size, hidden_layer_size,\n",
    "                                    hidden_layer_count,\n",
    "                                    num_labels, XTrain, yTrain, lambda_, pathToStoreData)"
   ],
   "metadata": {
    "collapsed": false
   }
  },
  {
   "cell_type": "code",
   "execution_count": 121,
   "outputs": [
    {
     "name": "stdout",
     "output_type": "stream",
     "text": [
      "loading X values\n",
      "loading thetas\n"
     ]
    }
   ],
   "source": [
    "print(\"loading X values\")\n",
    "X = np.loadtxt(f'{pathToStoreData}\\\\converted dataset\\\\validating set.csv', delimiter=',')\n",
    "print(\"loading thetas\")\n",
    "nn_params = np.loadtxt(f'{pathToStoreData}\\\\optimized thetas\\\\trained thetas.csv', delimiter=',')\n",
    "optimizedThetas = neuralNetwork.nnparamsToThetas(nn_params, input_layer_size, hidden_layer_size,\n",
    "                                   hidden_layer_count, num_labels)\n",
    "yVal = X[:, -1]\n",
    "XVal = X[:, :-1]"
   ],
   "metadata": {
    "collapsed": false
   }
  },
  {
   "cell_type": "code",
   "execution_count": 122,
   "outputs": [
    {
     "name": "stdout",
     "output_type": "stream",
     "text": [
      "predicting output\n",
      "[ 2.  0.  0. ... 18.  0. 23.]\n",
      "time to predict outcome: 5.1349358558654785 seconds\n",
      "Training Set Accuracy: 4.05%\n"
     ]
    }
   ],
   "source": [
    "pred = neuralNetwork.predict(optimizedThetas, XVal)\n",
    "print('Training Set Accuracy: {:.2f}%'.format(np.mean(pred == yVal) * 100))"
   ],
   "metadata": {
    "collapsed": false
   }
  },
  {
   "cell_type": "code",
   "execution_count": 123,
   "outputs": [],
   "source": [
    "J, grad = neuralNetwork.nnCostFunction(nn_params, input_layer_size, hidden_layer_size, hidden_layer_count, num_labels, XTrain, yTrain)"
   ],
   "metadata": {
    "collapsed": false
   }
  },
  {
   "cell_type": "code",
   "execution_count": 124,
   "outputs": [
    {
     "name": "stdout",
     "output_type": "stream",
     "text": [
      "4.76692843829639\n"
     ]
    }
   ],
   "source": [
    "print(J)"
   ],
   "metadata": {
    "collapsed": false
   }
  },
  {
   "cell_type": "code",
   "execution_count": null,
   "outputs": [],
   "source": [],
   "metadata": {
    "collapsed": false
   }
  }
 ],
 "metadata": {
  "kernelspec": {
   "display_name": "Python 3",
   "language": "python",
   "name": "python3"
  },
  "language_info": {
   "codemirror_mode": {
    "name": "ipython",
    "version": 2
   },
   "file_extension": ".py",
   "mimetype": "text/x-python",
   "name": "python",
   "nbconvert_exporter": "python",
   "pygments_lexer": "ipython2",
   "version": "2.7.6"
  }
 },
 "nbformat": 4,
 "nbformat_minor": 0
}
